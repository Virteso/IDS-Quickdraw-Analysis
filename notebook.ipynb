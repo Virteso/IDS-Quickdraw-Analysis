{
 "cells": [
  {
   "cell_type": "markdown",
   "metadata": {},
   "source": []
  },
  {
   "cell_type": "code",
   "execution_count": 1,
   "metadata": {},
   "outputs": [
    {
     "name": "stderr",
     "output_type": "stream",
     "text": [
      "2024-12-08 00:49:41.741220: I tensorflow/core/util/port.cc:153] oneDNN custom operations are on. You may see slightly different numerical results due to floating-point round-off errors from different computation orders. To turn them off, set the environment variable `TF_ENABLE_ONEDNN_OPTS=0`.\n",
      "2024-12-08 00:49:41.741807: I external/local_xla/xla/tsl/cuda/cudart_stub.cc:32] Could not find cuda drivers on your machine, GPU will not be used.\n",
      "2024-12-08 00:49:41.744831: I external/local_xla/xla/tsl/cuda/cudart_stub.cc:32] Could not find cuda drivers on your machine, GPU will not be used.\n",
      "2024-12-08 00:49:41.752000: E external/local_xla/xla/stream_executor/cuda/cuda_fft.cc:477] Unable to register cuFFT factory: Attempting to register factory for plugin cuFFT when one has already been registered\n",
      "WARNING: All log messages before absl::InitializeLog() is called are written to STDERR\n",
      "E0000 00:00:1733611781.764852   60293 cuda_dnn.cc:8310] Unable to register cuDNN factory: Attempting to register factory for plugin cuDNN when one has already been registered\n",
      "E0000 00:00:1733611781.768253   60293 cuda_blas.cc:1418] Unable to register cuBLAS factory: Attempting to register factory for plugin cuBLAS when one has already been registered\n",
      "2024-12-08 00:49:41.781905: I tensorflow/core/platform/cpu_feature_guard.cc:210] This TensorFlow binary is optimized to use available CPU instructions in performance-critical operations.\n",
      "To enable the following instructions: AVX2 AVX_VNNI FMA, in other operations, rebuild TensorFlow with the appropriate compiler flags.\n"
     ]
    },
    {
     "name": "stdout",
     "output_type": "stream",
     "text": [
      "(149736, 784)\n",
      "converting  ./data/angel.bin\n",
      "saved to ./data/numpy_bitmap/HUGEangel.npy\n",
      "None\n",
      "converting  ./data/airplane.bin\n",
      "saved to ./data/numpy_bitmap/HUGEairplane.npy\n",
      "None\n",
      "converting  ./data/bed.bin\n",
      "saved to ./data/numpy_bitmap/HUGEbed.npy\n",
      "None\n",
      "converting  ./data/whale.bin\n",
      "saved to ./data/numpy_bitmap/HUGEwhale.npy\n",
      "None\n",
      "converting  ./data/shovel.bin\n",
      "saved to ./data/numpy_bitmap/HUGEshovel.npy\n",
      "None\n",
      "converting  ./data/tractor.bin\n",
      "saved to ./data/numpy_bitmap/HUGEtractor.npy\n",
      "None\n",
      "converting  ./data/panda.bin\n",
      "saved to ./data/numpy_bitmap/HUGEpanda.npy\n",
      "None\n",
      "converting  ./data/bat.bin\n",
      "saved to ./data/numpy_bitmap/HUGEbat.npy\n",
      "None\n",
      "converting  ./data/camel.bin\n",
      "saved to ./data/numpy_bitmap/HUGEcamel.npy\n",
      "None\n",
      "converting  ./data/cow.bin\n",
      "saved to ./data/numpy_bitmap/HUGEcow.npy\n",
      "None\n",
      "converting  ./data/ant.bin\n",
      "saved to ./data/numpy_bitmap/HUGEant.npy\n",
      "None\n",
      "converting  ./data/smiley face.bin\n",
      "saved to ./data/numpy_bitmap/HUGEsmiley face.npy\n",
      "None\n"
     ]
    }
   ],
   "source": [
    "import numpy as np\n",
    "\n",
    "import cnn\n",
    "import funfunctions as fun\n",
    "\n",
    "#cnn.display_stuff()\n",
    "a = np.load(\"data/numpy_bitmap/angel.npy\")\n",
    "print(a.shape)\n",
    "\n",
    "fun.large_files()"
   ]
  }
 ],
 "metadata": {
  "kernelspec": {
   "display_name": "Python 3",
   "language": "python",
   "name": "python3"
  },
  "language_info": {
   "codemirror_mode": {
    "name": "ipython",
    "version": 3
   },
   "file_extension": ".py",
   "mimetype": "text/x-python",
   "name": "python",
   "nbconvert_exporter": "python",
   "pygments_lexer": "ipython3",
   "version": "3.10.12"
  }
 },
 "nbformat": 4,
 "nbformat_minor": 4
}
